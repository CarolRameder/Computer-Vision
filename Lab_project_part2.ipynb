{
 "cells": [
  {
   "cell_type": "markdown",
   "metadata": {
    "id": "d7PRKfXw99hy"
   },
   "source": [
    "# **Lab Project Part 2 - CNNs for Image Classification**\n",
    "------------------------------"
   ]
  },
  {
   "cell_type": "markdown",
   "metadata": {
    "id": "iY6wdmc299h1"
   },
   "source": [
    "### General Guideline\n",
    "1. **Aim**:\n",
    "    - *Understand  the  basic  Image  Classification/Recognition  pipeline  and  the  data-driven  approach (train/predict stages).*\n",
    "    - *Get used to one of deep learning framework(PyTorch).*\n",
    "2. **Prerequisite**:\n",
    "    - *Familiar with python and relevant packages.*\n",
    "    - *Known the basic knowledge of Convolutional Neural Networks*\n",
    "3. **Guidelines**:\n",
    "    Students should work on the assignments in a group of *three person* for two weeks. Some minor additions and changes might be done during these three weeks. Students will be informed for these changes via Canvas. Any questions regarding the assignment content can be discussed on Piazza. Students are expected to do this assignment in Python and Pytorch, however students are free to choose other tools (like Tensorflow). Your source code and report must be handed in together in a zip file (*ID1_ID2_ID3.zip*) before the deadline. Make sure your report follows these guidelines:\n",
    "    - *The maximum number of pages is 10 (single-column, including tables and figures). Please express your thoughts concisely.*\n",
    "    - *Follow the given script and answer all given questions (in green boxes). Briefly describe what you implemented. Blue boxes are there to give you hints to answer questions.*\n",
    "    - *Analyze your results and discuss them, e.g.*, why algorithm A works better than algorithm B in a certain problem.\n",
    "    - *Tables and figures must be accompanied by a brief description. Do not forget to add a number, a title, and if applicable name and unit of variables in a table, name and unit of axes and legends in a figure.*\n",
    "4. **Late submissions** are not allowed. Assignments that are submitted after the strict deadline will not be graded. In case of submission conflicts, TAs' system clock is taken as reference. We strongly recommend submitting well in advance, to avoid last minute system failure issues.\n",
    "5. **Plagiarism note**: \n",
    "Keep in mind that plagiarism (submitted materials which are not your work) is a serious crime and any misconduct shall be punished with the university regulations.\n",
    "\n",
    "### PyTorch versions\n",
    "we assume that you are using the latest PyTorch version(>=1.4)\n",
    "\n",
    "### PyTorch Tutorial & Docs\n",
    "This tutorial aims to make you familiar with the programming environment that will be used throughout the course. If you have experience with PyTorch or other frameworks (TensorFlow, MXNet *etc.*), you can skip the tutorial exercises; otherwise, we suggest that you complete them all, as they are helpful for getting hands-on experience.\n",
    "\n",
    "**Anaconda Environment** If you want to run the notebook locally, we recommend installing *anaconda* for configuring *python* package dependencies, whereas it's also fine to use other environment managers as you like. The installation of anaconda can be found in [anaconda link](https://docs.anaconda.com/anaconda/install/).\n",
    "\n",
    "**Installation** The installation of PyTorch is available at [install link](https://pytorch.org/get-started/locally/) depending on your device and system.\n",
    "\n",
    "**Getting start** The 60-minute blitz can be found at [blitz](https://pytorch.org/tutorials/beginner/deep_learning_60min_blitz.html), and and examples are at [examples](https://pytorch.org/tutorials/beginner/pytorch_with_examples.html)\n",
    "\n",
    "**Documents** There might be potential unknown functions or classes, you shall look through the official documents website ([Docs](https://pytorch.org/docs/stable/index.html)) and figure them out by yourself. (***Think***: What's the difference between *torch.nn.Conv2d* and *torch.nn.functional.conv2d*?)\n",
    "<!-- You can learn pytorch from the [tutorial link](https://pytorch.org/tutorials/). The Docs information can be searched at [Docs](https://pytorch.org/docs/stable/index.html). In this assignments, we wish you to form the basic capability of using one of the well-known   -->"
   ]
  },
  {
   "cell_type": "markdown",
   "metadata": {
    "id": "D2EILNe3JR1b"
   },
   "source": [
    "##  **Introduction**\n",
    "\n",
    "This part of the assignment makes use of Convolutional Neural Networks (CNN). The previous part makes use of hand-crafted features like SIFT to represent images, then trains a classifier on top of them. In this way, learning is a two-step procedure with image representation and learning. The method used here instead *learns* the features jointly with the classification. Training CNNs roughly consists of three parts:  (i) Creating the network architecture, (ii) Reprocessing the data, (iii) Feeding the data to the network, and updating the parameters. Please follow the instruction and finish the below tasks. (**Note:**  **Feel free to change the provided codes**.)"
   ]
  },
  {
   "cell_type": "markdown",
   "metadata": {
    "id": "CXQBnhT499h2"
   },
   "source": [
    "## **Session 1: Image Classifiation on CIFAR-100**\n",
    "### 1.1 Install pytorch and run the given codes\n",
    "\n",
    "First of all, you need to install PyTorch and relevant packages. In this session, we will use [CIFAR-100](https://www.cs.toronto.edu/~kriz/cifar.html) as the training and testing dataset. "
   ]
  },
  {
   "cell_type": "code",
   "execution_count": 49,
   "metadata": {},
   "outputs": [
    {
     "name": "stdout",
     "output_type": "stream",
     "text": [
      "Collecting torch-summary\n",
      "  Downloading torch_summary-1.4.5-py3-none-any.whl (16 kB)\n",
      "Installing collected packages: torch-summary\n",
      "Successfully installed torch-summary-1.4.5\n"
     ]
    }
   ],
   "source": [
    "!pip install torch-summary"
   ]
  },
  {
   "cell_type": "code",
   "execution_count": 50,
   "metadata": {
    "id": "47K1Kzph99h3"
   },
   "outputs": [],
   "source": [
    "#####################################################\n",
    "# referenced codes: https://pytorch.org/tutorials/\n",
    "# referenced codes: http://cs231n.stanford.edu/\n",
    "# referenced codes: https://cs.stanford.edu/~acoates/stl10/\n",
    "######################################################\n",
    "import torch\n",
    "import torchvision\n",
    "import torchvision.transforms as transforms\n",
    "import torch.nn as nn\n",
    "import torch\n",
    "import torch.nn.functional as F\n",
    "import matplotlib.pyplot as plt\n",
    "import numpy as np\n",
    "import torch.optim as optim\n",
    "import pickle\n",
    "from torch.utils.data import Dataset, DataLoader\n",
    "import random\n",
    "import os\n",
    "from torchsummary import summary"
   ]
  },
  {
   "cell_type": "code",
   "execution_count": 2,
   "metadata": {
    "colab": {
     "base_uri": "https://localhost:8080/"
    },
    "executionInfo": {
     "elapsed": 1781,
     "status": "ok",
     "timestamp": 1665063807401,
     "user": {
      "displayName": "Zehao Xiao",
      "userId": "03533745454963237857"
     },
     "user_tz": -120
    },
    "id": "8AU03smp99h4",
    "outputId": "d6d35ff0-2d0d-482f-f975-a13e0d6204e7"
   },
   "outputs": [
    {
     "name": "stdout",
     "output_type": "stream",
     "text": [
      "Files already downloaded and verified\n"
     ]
    }
   ],
   "source": [
    "transform = transforms.Compose(\n",
    "    [transforms.ToTensor(),\n",
    "     transforms.Normalize((0.5, 0.5, 0.5), (0.5, 0.5, 0.5))])\n",
    "\n",
    "\n",
    "trainset = torchvision.datasets.CIFAR100(root='./data', train=True,download=True, transform=transform)\n",
    "trainloader = torch.utils.data.DataLoader(trainset, batch_size=5,shuffle=True, num_workers=2)\n",
    "\n",
    "testset = torchvision.datasets.CIFAR100(root='./data', train=False,download=False, transform=transform)\n",
    "testloader = torch.utils.data.DataLoader(testset, batch_size=4,shuffle=False, num_workers=2)\n",
    "\n",
    "classes = ('apple', 'aquarium_fish', 'baby','bear', 'beaver','bed','bee','beetle','bicycle','bottle', 'bowl','boy','bridge', 'bus','butterfly', 'camel','can','castle','caterpillar','cattle',\n",
    " 'chair','chimpanzee','clock','cloud', 'cockroach','couch', 'cra','crocodile', 'cup','dinosaur','dolphin', 'elephant','flatfish', 'forest', 'fox','girl', 'hamster', 'house','kangaroo','keyboard',\n",
    "'lamp', 'lawn_mower', 'leopard', 'lion','lizard','lobster', 'man','maple_tree','motorcycle', 'mountain', 'mouse','mushroom','oak_tree', 'orange','orchid', 'otter', 'palm_tree','pear', 'pickup_truck','pine_tree',\n",
    "'plain', 'plate', 'poppy','porcupine','possum','rabbit','raccoon','ray','road','rocket','rose','sea', 'seal', 'shark','shrew', 'skunk','skyscraper', 'snail','snake','spider',\n",
    "'squirrel', 'streetcar', 'sunflower','sweet_pepper', 'table','tank','telephone', 'television', 'tiger','tractor','train','trout', 'tulip', 'turtle','wardrobe', 'whale', 'willow_tree','wolf', 'woman','worm')"
   ]
  },
  {
   "cell_type": "markdown",
   "metadata": {
    "id": "qvNbVoMh99h5",
    "tags": []
   },
   "source": [
    "####  **` Q1.1: test dataloader and show the images of each class  of CIFAR-100 (3-pts)`**  \n",
    "You need to run and modify the given code and **show** the example images of CIFAR-100, **describe** the classes and images of CIFAR-100. (Please visualize at least one picture for the classes of labels from 0 to 4.) (3-*pts*)"
   ]
  },
  {
   "cell_type": "code",
   "execution_count": 3,
   "metadata": {
    "id": "7hhMU6z999h6"
   },
   "outputs": [],
   "source": [
    "def imshow(img):\n",
    "    img = img / 2 + 0.5     # unnormalize\n",
    "    npimg = img.numpy()\n",
    "    plt.imshow(np.transpose(npimg, (1, 2, 0)))\n",
    "    plt.show()"
   ]
  },
  {
   "cell_type": "code",
   "execution_count": 4,
   "metadata": {
    "colab": {
     "base_uri": "https://localhost:8080/",
     "height": 138
    },
    "executionInfo": {
     "elapsed": 635,
     "status": "ok",
     "timestamp": 1665063813631,
     "user": {
      "displayName": "Zehao Xiao",
      "userId": "03533745454963237857"
     },
     "user_tz": -120
    },
    "id": "7iPwTYDB99h7",
    "outputId": "bb01296b-3ec6-4b9a-a8d1-a46d4163a2bb"
   },
   "outputs": [
    {
     "data": {
      "image/png": "[encoded data removed]",
      "text/plain": [
       "<Figure size 432x288 with 1 Axes>"
      ]
     },
     "metadata": {
      "needs_background": "light"
     },
     "output_type": "display_data"
    },
    {
     "name": "stdout",
     "output_type": "stream",
     "text": [
      " seal lawn_mower otter porcupine  bowl\n"
     ]
    }
   ],
   "source": [
    "# get some random training images\n",
    "dataiter = iter(trainloader)\n",
    "images, labels = dataiter.next()\n",
    "\n",
    "# show images\n",
    "imshow(torchvision.utils.make_grid(images))\n",
    "\n",
    "# print labels\n",
    "print(' '.join('%5s' % classes[labels[j]] for j in range(5)))"
   ]
  },
  {
   "cell_type": "code",
   "execution_count": 36,
   "metadata": {},
   "outputs": [
    {
     "data": {
      "image/png": "[encoded data removed]",
      "text/plain": [
       "<Figure size 432x288 with 1 Axes>"
      ]
     },
     "metadata": {
      "needs_background": "light"
     },
     "output_type": "display_data"
    },
    {
     "name": "stdout",
     "output_type": "stream",
     "text": [
      "['bear', 'beaver', 'aquarium_fish', 'apple', 'baby']\n"
     ]
    }
   ],
   "source": [
    "#first 5 classes\n",
    "sample_images = []\n",
    "outstanding_labels = [c for c in classes[:5]]\n",
    "labels_ordered = []\n",
    "\n",
    "for step, (images, labels) in enumerate(trainloader):\n",
    "    if len(outstanding_labels) == 0 or step > 100:\n",
    "        break\n",
    "    for image, label in zip(images, labels):\n",
    "        _label = classes[label.item()]\n",
    "        if _label in outstanding_labels:\n",
    "            sample_images.append(image)\n",
    "            outstanding_labels.remove(_label)\n",
    "            labels_ordered.append(_label)\n",
    "\n",
    "imshow(torchvision.utils.make_grid(sample_images, nrow=10))\n",
    "print(labels_ordered)"
   ]
  },
  {
   "cell_type": "markdown",
   "metadata": {
    "id": "DZ6OkCV9LIM9"
   },
   "source": [
    "### 1.2 Architecture understanding\n",
    "\n",
    "In this section, we provide two wrapped classes of architectures defined by *nn.Module*. One is an ordinary two-layer network (*TwolayerNet*) with fully connected layers and ReLu, and the other is a Convolutional Network (*ConvNet*) utilizing the structure of [LeNet-5](https://ieeexplore.ieee.org/document/726791)."
   ]
  },
  {
   "cell_type": "markdown",
   "metadata": {
    "id": "w6a1z2vK99h7",
    "tags": []
   },
   "source": [
    "####  **`Q1.2: Architecture understanding. Implement architecture of TwolayerNet and ConvNet (4-pts).`**\n",
    "1. Complement the architecture of *TwolayerNet* class, and complement the architecture of *ConvNet* class using the structure of LeNet-5. (2-*pts*)\n",
    "2. Since you need to feed color images into these two networks, what's the kernel size of the first convolutional layer in *ConvNet*? and how many trainable parameters are there in \"F6\" layer (given the calculation process)? (2-*pts*)"
   ]
  },
  {
   "cell_type": "code",
   "execution_count": 5,
   "metadata": {
    "id": "ILrfnDDv99h8"
   },
   "outputs": [],
   "source": [
    "class TwolayerNet(nn.Module):\n",
    "    # assign layer objects to class attributes\n",
    "    # nn.init package contains convenient initialization methods\n",
    "    # http://pytorch.org/docs/master/nn.html#torch-nn-init\n",
    "    def __init__(self,input_size ,hidden_size ,num_classes ):\n",
    "        '''\n",
    "        :param input_size: 3*32*32\n",
    "        :param hidden_size: \n",
    "        :param num_classes: \n",
    "        '''\n",
    "        ################################\n",
    "        super(TwolayerNet, self).__init__()\n",
    "        self.input_size = input_size\n",
    "        self.hidden_size = hidden_size\n",
    "        self.num_classes = num_classes\n",
    "        self.F1 = nn.Linear(input_size, hidden_size)\n",
    "        self.F2 = nn.Linear(hidden_size, num_classes)\n",
    "        ################################\n",
    "        \n",
    "    def forward(self,x):\n",
    "        # the input is flatten\n",
    "        device = torch.device(\"cuda\" if torch.cuda.is_available() else \"cpu\")\n",
    "        x.to(device)\n",
    "        x = x.view(x.shape[0], -1)\n",
    "        x = nn.functional.relu(self.F1(x))\n",
    "        scores = self.F2(x)\n",
    "        return scores"
   ]
  },
  {
   "cell_type": "code",
   "execution_count": 45,
   "metadata": {
    "id": "5E2a9-lz99h8"
   },
   "outputs": [],
   "source": [
    "### NOTE: For simplicity, you can use nn.tanh as the activation function and output the 1x100 !! length logits directly (omit the RBF units output).\n",
    "class ConvNet(nn.Module):\n",
    "    # Complete the code using LeNet-5\n",
    "    # reference: https://ieeexplore.ieee.org/document/726791\n",
    "    def __init__(self):\n",
    "        ################################\n",
    "        super(ConvNet, self).__init__()\n",
    "        self.C1 = nn.Conv2d(3, 6, 5)\n",
    "        self.S2 = nn.AvgPool2d(2,2)\n",
    "        self.C3 = nn.Conv2d(6, 16, 5)\n",
    "        self.S4 = nn.AvgPool2d(2,2)\n",
    "        self.C5 = nn.Conv2d(16, 120, 5)\n",
    "        self.F6 = nn.Linear(120, 84)\n",
    "        self.out = nn.Linear(84, 100)\n",
    "        ################################\n",
    "    def forward(self, x):\n",
    "        ################################\n",
    "        x = torch.tanh(self.C1(x))\n",
    "        x = self.S2(x)\n",
    "        x = torch.tanh(self.C3(x))\n",
    "        x = self.S4(x)\n",
    "        x = torch.tanh(self.C5(x))\n",
    "        #flatten before linear layers\n",
    "        x = x.view(x.size(0), -1)\n",
    "        x = torch.tanh(self.F6(x))\n",
    "        x = self.out(x)\n",
    "        ################################\n",
    "        return x"
   ]
  },
  {
   "cell_type": "code",
   "execution_count": 51,
   "metadata": {},
   "outputs": [
    {
     "name": "stdout",
     "output_type": "stream",
     "text": [
      "==========================================================================================\n",
      "Layer (type:depth-idx)                   Output Shape              Param #\n",
      "==========================================================================================\n",
      "├─Linear: 1-1                            [-1, 128]                 393,344\n",
      "├─Linear: 1-2                            [-1, 100]                 12,900\n",
      "==========================================================================================\n",
      "Total params: 406,244\n",
      "Trainable params: 406,244\n",
      "Non-trainable params: 0\n",
      "Total mult-adds (M): 0.41\n",
      "==========================================================================================\n",
      "Input size (MB): 0.01\n",
      "Forward/backward pass size (MB): 0.00\n",
      "Params size (MB): 1.55\n",
      "Estimated Total Size (MB): 1.56\n",
      "==========================================================================================\n",
      "==========================================================================================\n",
      "Layer (type:depth-idx)                   Output Shape              Param #\n",
      "==========================================================================================\n",
      "├─Conv2d: 1-1                            [-1, 6, 28, 28]           456\n",
      "├─AvgPool2d: 1-2                         [-1, 6, 14, 14]           --\n",
      "├─Conv2d: 1-3                            [-1, 16, 10, 10]          2,416\n",
      "├─AvgPool2d: 1-4                         [-1, 16, 5, 5]            --\n",
      "├─Conv2d: 1-5                            [-1, 120, 1, 1]           48,120\n",
      "├─Linear: 1-6                            [-1, 84]                  10,164\n",
      "├─Linear: 1-7                            [-1, 100]                 8,500\n",
      "==========================================================================================\n",
      "Total params: 69,656\n",
      "Trainable params: 69,656\n",
      "Non-trainable params: 0\n",
      "Total mult-adds (M): 0.66\n",
      "==========================================================================================\n",
      "Input size (MB): 0.01\n",
      "Forward/backward pass size (MB): 0.05\n",
      "Params size (MB): 0.27\n",
      "Estimated Total Size (MB): 0.33\n",
      "==========================================================================================\n"
     ]
    },
    {
     "data": {
      "text/plain": [
       "==========================================================================================\n",
       "Layer (type:depth-idx)                   Output Shape              Param #\n",
       "==========================================================================================\n",
       "├─Conv2d: 1-1                            [-1, 6, 28, 28]           456\n",
       "├─AvgPool2d: 1-2                         [-1, 6, 14, 14]           --\n",
       "├─Conv2d: 1-3                            [-1, 16, 10, 10]          2,416\n",
       "├─AvgPool2d: 1-4                         [-1, 16, 5, 5]            --\n",
       "├─Conv2d: 1-5                            [-1, 120, 1, 1]           48,120\n",
       "├─Linear: 1-6                            [-1, 84]                  10,164\n",
       "├─Linear: 1-7                            [-1, 100]                 8,500\n",
       "==========================================================================================\n",
       "Total params: 69,656\n",
       "Trainable params: 69,656\n",
       "Non-trainable params: 0\n",
       "Total mult-adds (M): 0.66\n",
       "==========================================================================================\n",
       "Input size (MB): 0.01\n",
       "Forward/backward pass size (MB): 0.05\n",
       "Params size (MB): 0.27\n",
       "Estimated Total Size (MB): 0.33\n",
       "=========================================================================================="
      ]
     },
     "execution_count": 51,
     "metadata": {},
     "output_type": "execute_result"
    }
   ],
   "source": [
    "tln_model = TwolayerNet(3072, 128, 100)\n",
    "summary(tln_model, (3, 32, 32))\n",
    "cnn_model = ConvNet()\n",
    "summary(cnn_model, (3, 32, 32))"
   ]
  },
  {
   "cell_type": "markdown",
   "metadata": {
    "id": "aCP1tS7lL8hF"
   },
   "source": [
    "### 1.3 Preparation of training\n",
    "\n",
    "In above section, we use the *CIFAR-100* dataset class from *torchvision.utils* provided by PyTorch. Whereas in most cases, you need to prepare the dataset yourself. One of the ways is to create a *dataset* class yourself and then use the *DataLoader* to make it iterable. After preparing the training and testing data, you also need to define the transform function for data augmentation and optimizer for parameter updating. "
   ]
  },
  {
   "cell_type": "markdown",
   "metadata": {
    "id": "1oyc8Ksd99h-"
   },
   "source": [
    "####  **` Q1.3: Preparation of training. Create Dataloader yourself and define Transform, optimizer.(8-pts)`**  \n",
    "1. Complement the *CIFAR100\\_loader* (2-pts)\n",
    "2. Complement *Transform* function and *Optimizer* (2-pts)\n",
    "3. Train the *TwolayerNet* and *ConvNet* with *CIFAR100\\_loader*, *Transform* and *Optimizer* you implemented and compare the results (4-pts)"
   ]
  },
  {
   "cell_type": "markdown",
   "metadata": {
    "id": "QkImoAsU99h-",
    "tags": []
   },
   "source": [
    "##### *` Complement  CIFAR100_loader()(2-pts)`*"
   ]
  },
  {
   "cell_type": "code",
   "execution_count": 7,
   "metadata": {
    "id": "G9Za4VSP99h_"
   },
   "outputs": [],
   "source": [
    "###  suggested reference: https://pytorch.org/tutorials/recipes/recipes/custom_dataset_transforms_loader.html?highlight=dataloader\n",
    "# functions to show an image\n",
    "\n",
    "class CIFAR100_loader(Dataset):\n",
    "    def __init__(self,root,train=True,transform = None):\n",
    "        dict_data = self.unpickle(root)\n",
    "        self.labels = dict_data['fine_labels']\n",
    "        imgs = dict_data['data']\n",
    "        self.data = self.img_format(imgs)\n",
    "        self.transform = transform\n",
    "        \n",
    "    def __len__(self):\n",
    "        return len(self.data)\n",
    "    \n",
    "    def img_format(self, data):\n",
    "        #dim should be 32 in this case\n",
    "        dim=np.sqrt(data.shape[1]/3).astype(int)\n",
    "        \n",
    "        r = data[:, 0:1024].reshape(data.shape[0], dim, dim, 1)\n",
    "        g = data[:, 1024:2048].reshape(data.shape[0], dim, dim, 1)\n",
    "        b = data[:, 2048:3072].reshape(data.shape[0], dim, dim, 1)\n",
    "        return np.concatenate([r,g,b], -1)\n",
    "    \n",
    "    def __getitem__(self, item):\n",
    "        img = self.data[item]\n",
    "        label = self.labels[item]\n",
    "        if self.transform is not None:\n",
    "            img = self.transform(img)\n",
    "            \n",
    "        return img, label\n",
    "    \n",
    "    def unpickle(self, file):\n",
    "        with open(file, 'rb') as fo:\n",
    "            dict = pickle.load(fo, encoding='latin')\n",
    "        return dict"
   ]
  },
  {
   "cell_type": "markdown",
   "metadata": {
    "id": "mYKtNWW_99h_",
    "tags": []
   },
   "source": [
    "##### *` Complement Transform function and Optimizer (2-pts)`*"
   ]
  },
  {
   "cell_type": "code",
   "execution_count": 61,
   "metadata": {
    "id": "E2yNqZpZ99h_"
   },
   "outputs": [],
   "source": [
    "#initially transform train & test identical\n",
    "transform_train = transform_train = transforms.Compose(\n",
    "    [transforms.ToPILImage(),\n",
    "     transforms.RandomHorizontalFlip(),\n",
    "     transforms.RandomVerticalFlip(),\n",
    "     transforms.ToTensor(),\n",
    "     transforms.Normalize((0.5, 0.5, 0.5), (0.5, 0.5, 0.5))]) \n",
    "\n",
    "transform_test= transforms.Compose(\n",
    "    [transforms.ToTensor(),\n",
    "     transforms.Normalize((0.5, 0.5, 0.5), (0.5, 0.5, 0.5))])"
   ]
  },
  {
   "cell_type": "code",
   "execution_count": 62,
   "metadata": {},
   "outputs": [],
   "source": [
    "path1 = \"/home/carol/Desktop/Link to Period 1/Computer Vision 1/Lab_proj/Final_Lab_Part_2CNN/data/cifar-100-python/train\"\n",
    "path2 = \"/home/carol/Desktop/Link to Period 1/Computer Vision 1/Lab_proj/Final_Lab_Part_2CNN/data/cifar-100-python/test\"\n",
    "path3 = \"/home/carol/Desktop/Link to Period 1/Computer Vision 1/Lab_proj/Final_Lab_Part_2CNN/data/cifar-100-python/meta\"\n",
    "\n",
    "transformed_train = CIFAR100_loader(path1, transform = transform_train)\n",
    "trainloader = DataLoader(transformed_train, batch_size=32, shuffle=True, num_workers=2)\n",
    "\n",
    "transformed_test= CIFAR100_loader(path2, transform = transform_test)\n",
    "testloader = DataLoader(transformed_test, batch_size=32, shuffle=True, num_workers=2)"
   ]
  },
  {
   "cell_type": "markdown",
   "metadata": {
    "id": "EYpJN5Cb99h_"
   },
   "source": [
    "##### *` Train the TwolayerNet and ConvNet with CIFAR100_loader, transform and optimizer you implemented and compare the results (4-pts)`*"
   ]
  },
  {
   "cell_type": "code",
   "execution_count": 63,
   "metadata": {
    "id": "hNwBZvfX99h_"
   },
   "outputs": [],
   "source": [
    "#https://pytorch.org/tutorials/beginner/introyt/trainingyt.html\n",
    "def train(net, trainloader,epoch=1):\n",
    "    loss_function = nn.CrossEntropyLoss()\n",
    "    device = torch.device(\"cuda\" if torch.cuda.is_available() else \"cpu\")\n",
    "    optimizer = optim.Adam(net.parameters(), lr=0.01, weight_decay=0.001)\n",
    "    net.to(device)\n",
    "    t_ls=[]\n",
    "    \n",
    "    #one epoch -> processing all data once\n",
    "    for epoch in range(epoch):  \n",
    "        loss_ep = 0\n",
    "        net.train()\n",
    "        \n",
    "        #iterating through batches\n",
    "        for x, l in trainloader:\n",
    "            x=x.to(device)\n",
    "            l=l.to(device)\n",
    "            net.zero_grad()\n",
    "\n",
    "            ## Make predictions for this batch\n",
    "            tag_scores = net(x)\n",
    "            \n",
    "            # Compute the loss and its gradients, save the current value\n",
    "            loss = loss_function(tag_scores, l)\n",
    "            loss_ep+=loss\n",
    "            loss.backward()\n",
    "            \n",
    "            # Adjust learning weights\n",
    "            optimizer.step()\n",
    "            #sets all gradients to 0 for future steps\n",
    "            optimizer.zero_grad()\n",
    "            \n",
    "        print(\"Training data loss\", loss_ep)\n",
    "        t_ls.append(loss_ep)\n",
    "\n",
    "    print('Finished Training')\n",
    "    plt.title('Cross Entropy Loss {}'.format(type(net).__name__))\n",
    "    plt.xlabel('Epoch')\n",
    "    if torch.cuda.is_available():\n",
    "        t_ls = torch.tensor(t_ls, device = 'cpu') \n",
    "    plt.plot(t_ls.\n",
    "             numpy(),label=\"train\")\n",
    "    plt.legend()\n",
    "    plt.show()"
   ]
  },
  {
   "cell_type": "markdown",
   "metadata": {
    "id": "wxfxa_Rj8X5z"
   },
   "source": [
    "*train TwolayerNet*"
   ]
  },
  {
   "cell_type": "code",
   "execution_count": null,
   "metadata": {
    "id": "rd3ql4B27yEl"
   },
   "outputs": [],
   "source": [
    "#size of image representation\n",
    "tln_model = TwolayerNet(3072, 128, 100)\n",
    "train(tln_model, trainloader, 30)"
   ]
  },
  {
   "cell_type": "markdown",
   "metadata": {
    "id": "GySb8UWX8emz"
   },
   "source": [
    "*train ConvNet*"
   ]
  },
  {
   "cell_type": "code",
   "execution_count": null,
   "metadata": {},
   "outputs": [],
   "source": [
    "cnn_model = ConvNet()\n",
    "train(cnn_model, trainloader, 30)"
   ]
  },
  {
   "cell_type": "code",
   "execution_count": 11,
   "metadata": {
    "id": "7FBozCDk99h-"
   },
   "outputs": [],
   "source": [
    "def valid(net,testloader):\n",
    "    device = torch.device(\"cuda\" if torch.cuda.is_available() else \"cpu\")\n",
    "    correct = 0\n",
    "    total = 0\n",
    "    with torch.no_grad():\n",
    "        for data in testloader:\n",
    "            images, labels = data\n",
    "            images = images.to(device)\n",
    "            labels = labels.to(device)\n",
    "            net.eval()\n",
    "            outputs = net(images)\n",
    "            _, predicted = torch.max(outputs.data, 1)\n",
    "            total += labels.size(0)\n",
    "            correct += (predicted == labels).sum().item()\n",
    "    string = 'Accuracy of the network on the 10000 test images: %d %%' % (100 * correct / total)\n",
    "    val = 100 * correct / total\n",
    "    return string, val"
   ]
  },
  {
   "cell_type": "code",
   "execution_count": 12,
   "metadata": {
    "id": "zm7FuYwJ99h-"
   },
   "outputs": [],
   "source": [
    "def valid_class(net,testloader,classes):\n",
    "    device = torch.device(\"cuda\" if torch.cuda.is_available() else \"cpu\")\n",
    "    class_correct = list(0. for i in range(len(classes)))\n",
    "    class_total = list(0. for i in range(len(classes)))\n",
    "    with torch.no_grad():\n",
    "        for data in testloader:\n",
    "            images, labels = data\n",
    "            images = images.to(device)\n",
    "            labels = labels.to(device)\n",
    "            net.eval()\n",
    "            outputs = net(images)\n",
    "            _, predicted = torch.max(outputs, 1)\n",
    "            c = (predicted == labels).squeeze()\n",
    "            for i in range(len(labels)):\n",
    "                label = labels[i]\n",
    "                class_correct[label] += c[i].item()\n",
    "                class_total[label] += 1\n",
    "    outputs=[]\n",
    "    for i in range(len(classes)):\n",
    "        outputs.append('Accuracy of %5s : %2d %%' % (classes[i], 100 * class_correct[i] / class_total[i]))\n",
    "    return outputs"
   ]
  },
  {
   "cell_type": "code",
   "execution_count": 13,
   "metadata": {},
   "outputs": [],
   "source": [
    "def unpickle(file):\n",
    "    with open(file, 'rb') as fo:\n",
    "        dict = pickle.load(fo, encoding='latin')\n",
    "    return dict"
   ]
  },
  {
   "cell_type": "code",
   "execution_count": null,
   "metadata": {},
   "outputs": [],
   "source": [
    "classes = unpickle(path3).get('fine_label_names')\n",
    "\n",
    "#trainee = unpickle(path1).get('data')\n",
    "#print(trainee)\n",
    "\n",
    "#print(valid(tln_model,testloader))\n",
    "#valid_class(tln_model,testloader,classes)\n",
    "\n",
    "print(valid(cnn_model,testloader))\n",
    "valid_class(cnn_model,testloader,classes)"
   ]
  },
  {
   "cell_type": "markdown",
   "metadata": {
    "id": "SQhUzRuQOOSm"
   },
   "source": [
    "# 1.4 Setting up the hyperparameters\n",
    "\n",
    "Some parameters must be set properly before the training of CNNs. These parameters shape the training procedure. They determine how many images are to be processed at each step, how much the weights of the network will be updated, how many iterations will the network run until convergence.  These parameters are called hyperparameters in the machine learning literature. "
   ]
  },
  {
   "cell_type": "markdown",
   "metadata": {
    "id": "mhtGVNHIQ8kT"
   },
   "source": [
    "####  **` Q1.4: Setting up the hyperparameters (10-pts)`**  \n",
    "\n",
    "1. Play with ConvNet and TwolayerNet yourself, set up the hyperparameters, and reach the accuracy as high as you can.\n",
    "You can modify the *train*,  *Dataloader*, *transform* and *Optimizer* function as you like. You can also modify the architectures of these two Nets. \n",
    "\n",
    "2. *Let's add 2 more layers in TwolayerNet and ConvNet, and show the results. (You can decide the size of these layers and where to add them.) Will you get higher performances? explain why.*\n",
    " \n",
    "3.  Show the final results and described what you've done to improve the results. Describe and explain the influence of hyperparameters among *TwolayerNet* and *ConvNet*.\n",
    "\n",
    "4. Compare and explain the differences of these two networks regarding the architecture, performances, and learning rates. \n",
    "\n",
    "**Hint:** You can adjust the following parameters and other parameters not listed as you like: *Learning rate, Batch size, Number of epochs, Optimizer, Transform function, Weight decay etc.* You can also change the structure a bit, for instance, adding Batch Normalization layers. Please do not use external well-defined networks and please do not add more than 3 additional (beyond the original network) convolutional layers."
   ]
  },
  {
   "cell_type": "markdown",
   "metadata": {
    "id": "p1Puiytn99h_"
   },
   "source": [
    "#### *`Play with convNet and TwolayerNet, set up the hyperparameters and reach the accuracy as high as you can`*"
   ]
  },
  {
   "cell_type": "code",
   "execution_count": 15,
   "metadata": {},
   "outputs": [],
   "source": [
    "#Changes made on\n",
    "    #Transform function\n",
    "    #Random Search : Learning rate, Weight decay, Batch size, Number of epochs, Optimizer and Loss Function\n",
    "#Custom function with changeable hyperparameters"
   ]
  },
  {
   "cell_type": "code",
   "execution_count": 16,
   "metadata": {
    "id": "ROyqHC0199iA"
   },
   "outputs": [],
   "source": [
    "def train2(net, trainloader,hyperparam):\n",
    "    device = torch.device(\"cuda\" if torch.cuda.is_available() else \"cpu\")\n",
    "    epochs, lr, wd, loss_function, current_optimizer= hyperparam\n",
    "    if current_optimizer==1:\n",
    "        optimizer = optim.Adam(net.parameters(), lr=lr, weight_decay=wd)\n",
    "    else:\n",
    "        optimizer = optim.Adadelta(net.parameters(), lr=lr, weight_decay=wd)\n",
    "    net.to(device)\n",
    "    t_ls=[]\n",
    "    \n",
    "    #one epoch -> processing all data once\n",
    "    for epoch in range(epoch):  \n",
    "        loss_ep = 0\n",
    "        net.train()\n",
    "        \n",
    "        #iterating through batches\n",
    "        for x, l in trainloader:\n",
    "            x=x.to(device)\n",
    "            l=l.to(device)\n",
    "            net.zero_grad()\n",
    "\n",
    "            ## Make predictions for this batch\n",
    "            tag_scores = net(x)\n",
    "            \n",
    "            # Compute the loss and its gradients, save the current value\n",
    "            loss = loss_function(tag_scores, l)\n",
    "            loss_ep+=loss\n",
    "            loss.backward()\n",
    "            \n",
    "            # Adjust learning weights\n",
    "            optimizer.step()\n",
    "            #sets all gradients to 0 for future steps\n",
    "            optimizer.zero_grad()\n",
    "        print(\"Training data loss\", loss_ep)\n",
    "        t_ls.append(loss_ep)\n",
    "\n",
    "    # print('Finished Training')\n",
    "    # plt.title('Cross Entropy Loss {}'.format(type(net).__name__))\n",
    "    # plt.xlabel('Epoch')\n",
    "    # if torch.cuda.is_available():\n",
    "    #     t_ls = torch.tensor(t_ls, device = 'cpu') \n",
    "    # plt.plot(t_ls.\n",
    "    #          numpy(),label=\"train\")\n",
    "    # plt.legend()\n",
    "    # plt.show()"
   ]
  },
  {
   "cell_type": "code",
   "execution_count": 17,
   "metadata": {},
   "outputs": [],
   "source": [
    "def get_loaders(batch_sz, transform_train, transform_test):\n",
    "    transformed_train = CIFAR100_loader(path1, transform = transform_train)\n",
    "    trainloader = DataLoader(transformed_train, batch_size=batch_sz, shuffle=True, num_workers=2)\n",
    "\n",
    "    transformed_test= CIFAR100_loader(path2, transform = transform_test)\n",
    "    testloader = DataLoader(transformed_test, batch_size=batch_sz, shuffle=True, num_workers=2)\n",
    "    return trainloader, testloader\n",
    "\n",
    "def valid_both(net,testloader,classes):\n",
    "    final = valid_class(net,testloader,classes)\n",
    "    string, val = valid(net,testloader)\n",
    "    final.append(string)\n",
    "    return final, val"
   ]
  },
  {
   "cell_type": "code",
   "execution_count": 76,
   "metadata": {},
   "outputs": [],
   "source": [
    "#modified transform: added Horizontal and Vertical flip for rubustness of model, changed with optimal CIFAR-100 values\n",
    "transform_train = transform_train = transforms.Compose(\n",
    "    [transforms.ToPILImage(),\n",
    "     transforms.RandomHorizontalFlip(),\n",
    "     transforms.RandomVerticalFlip(),\n",
    "     transforms.ToTensor(),\n",
    "     transforms.Normalize((0.5071, 0.4867, 0.4408), (0.2675, 0.2565, 0.2761))])\n",
    "\n",
    "transform_test = transforms.Compose(\n",
    "    [transforms.ToTensor(),\n",
    "     transforms.Normalize((0.5071, 0.4867, 0.4408), (0.2675, 0.2565, 0.2761))])"
   ]
  },
  {
   "cell_type": "code",
   "execution_count": 66,
   "metadata": {},
   "outputs": [],
   "source": [
    "param_dist = {\n",
    "    'epoch':list(range(20, 80, 20)),\n",
    "    'lr': [0.1, 0.01, 0.001, 0.0001],\n",
    "    'wd': [0,0.01,0.3, 0.001],\n",
    "    'loss_function':[nn.CrossEntropyLoss(),nn.MultiMarginLoss()],\n",
    "    'batch_size':[10,32,64,128],\n",
    "    'optimizers':[0, 1]\n",
    "}"
   ]
  },
  {
   "cell_type": "code",
   "execution_count": 20,
   "metadata": {},
   "outputs": [],
   "source": [
    "def get_random_config(parameter_distribution):\n",
    "    config = []\n",
    "    for key in parameter_distribution.keys():\n",
    "        pos_val = parameter_distribution.get(key)\n",
    "        config.append(random.choice(pos_val))\n",
    "    return tuple(config)"
   ]
  },
  {
   "cell_type": "code",
   "execution_count": 58,
   "metadata": {},
   "outputs": [],
   "source": [
    "def rand_search(model_type,param_dist, classes, n_iter):\n",
    "    best_acc = 0\n",
    "    best_config=()\n",
    "    output=[]\n",
    "    for i in range(n_iter):\n",
    "        if model_type == 'cnn':\n",
    "            model = ConvNet()\n",
    "        elif model_type == 'tln':\n",
    "            model = TwolayerNet(3072, 128, 100)\n",
    "        elif model_type == 'cnn2':\n",
    "            model = ConvNet_2()\n",
    "        elif model_type == 'mln':\n",
    "            model = MultiLayerNet(3072, 128, 100)\n",
    "        print('Starting iteration, {}'.format(i))\n",
    "        epoch, lr, wd, loss_fc, batch_sz, optim = get_random_config(param_dist)\n",
    "        hyper_net = (epoch, lr, wd, loss_fc, optim)\n",
    "        trainloader, testloader = get_loaders(batch_sz, transform_train, transform_test)\n",
    "        train2(model, trainloader, hyper_net)\n",
    "        strings, acc = valid_both(model, testloader, classes)\n",
    "        if acc > best_acc:\n",
    "            best_acc = acc\n",
    "            best_config = (epoch, lr, wd, loss_fc, batch_sz, optim)\n",
    "            output = strings\n",
    "        print('Accuracy found: {}'.format(acc))\n",
    "    return acc, best_config"
   ]
  },
  {
   "cell_type": "markdown",
   "metadata": {
    "id": "pqQ6-Krp99iA",
    "tags": []
   },
   "source": [
    "#### *` test the accuracy of ConvNet `*"
   ]
  },
  {
   "cell_type": "code",
   "execution_count": null,
   "metadata": {
    "id": "ciidRXDn99iA"
   },
   "outputs": [],
   "source": [
    "print(valid(cnn_model,testloader))\n",
    "valid_class(cnn_model,testloader,classes)"
   ]
  },
  {
   "cell_type": "markdown",
   "metadata": {
    "id": "mlAIR45199iA",
    "tags": []
   },
   "source": [
    "#### *`test the accuracy of TwolayerNet`*"
   ]
  },
  {
   "cell_type": "code",
   "execution_count": 154,
   "metadata": {
    "id": "W2fMEW-g99iA"
   },
   "outputs": [],
   "source": [
    "print(valid(tln_model,testloader))\n",
    "valid_class(tln_model,testloader,classes)"
   ]
  },
  {
   "cell_type": "markdown",
   "metadata": {},
   "source": [
    "#### *` Add layers `*"
   ]
  },
  {
   "cell_type": "code",
   "execution_count": 67,
   "metadata": {},
   "outputs": [],
   "source": [
    "class ConvNet_2(nn.Module):\n",
    "    # Complete the code using LeNet-5\n",
    "    # reference: https://ieeexplore.ieee.org/document/726791\n",
    "    def __init__(self):\n",
    "        super(ConvNet_2, self).__init__()\n",
    "        self.C1 = nn.Conv2d(3, 6, 5)\n",
    "        self.BN2 = nn.BatchNorm2d(6)\n",
    "        self.S3 = nn.AvgPool2d(2,2)\n",
    "        self.C4 = nn.Conv2d(6, 16, 5)\n",
    "        self.S5 = nn.AvgPool2d(2,2)\n",
    "        self.C6 = nn.Conv2d(16, 120, 5)\n",
    "        self.F7 = nn.Linear(120, 84)\n",
    "        self.D8 = nn.Dropout(0.4)\n",
    "        self.out = nn.Linear(84, 100)\n",
    "        \n",
    "    def forward(self, x):\n",
    "        x = self.BN2(self.C1(x))\n",
    "        x = F.leaky_relu(x)\n",
    "        x = self.S3(x)\n",
    "        x = F.leaky_relu(self.C4(x))\n",
    "        x = self.S5(x)\n",
    "        x = F.leaky_relu(self.C6(x))\n",
    "        #flatten before linear layers\n",
    "        x = x.view(x.size(0), -1)\n",
    "        x = F.leaky_relu(self.F7(x))\n",
    "        x = self.D8(x)\n",
    "        x = self.out(x)\n",
    "        \n",
    "        return x"
   ]
  },
  {
   "cell_type": "code",
   "execution_count": 80,
   "metadata": {},
   "outputs": [],
   "source": [
    "class MultiLayerNet(nn.Module):\n",
    "    # assign layer objects to class attributes\n",
    "    # nn.init package contains convenient initialization methods\n",
    "    # http://pytorch.org/docs/master/nn.html#torch-nn-init\n",
    "    def __init__(self,input_size ,hidden_size ,num_classes ):\n",
    "        '''\n",
    "        :param input_size: 3*32*32\n",
    "        :param hidden_size: \n",
    "        :param num_classes: \n",
    "        '''\n",
    "        super(MultiLayerNet, self).__init__()\n",
    "        self.input_size = input_size\n",
    "        self.hidden_size = hidden_size\n",
    "        self.num_classes = num_classes\n",
    "        self.F1 = nn.Linear(input_size, hidden_size)\n",
    "        self.BN2 = nn.BatchNorm1d(hidden_size)\n",
    "        self.D3 = nn.Dropout(0.4)\n",
    "        self.F4 = nn.Linear(hidden_size, 64)\n",
    "        self.F5 = nn.Linear(64, num_classes)\n",
    "        \n",
    "    def forward(self,x):\n",
    "        # the input is flatten\n",
    "        device = torch.device(\"cuda\" if torch.cuda.is_available() else \"cpu\")\n",
    "        x.to(device)\n",
    "        x = x.view(x.shape[0], -1)\n",
    "        x = self.BN2(self.F1(x))\n",
    "        x = F.leaky_relu(x)\n",
    "        x = self.D3(x)\n",
    "        x = F.leaky_relu(self.F4(x))\n",
    "        scores = self.F5(x)\n",
    "        return scores"
   ]
  },
  {
   "cell_type": "code",
   "execution_count": 77,
   "metadata": {},
   "outputs": [
    {
     "name": "stdout",
     "output_type": "stream",
     "text": [
      "Training data loss tensor(6641.7061, device='cuda:0', grad_fn=<AddBackward0>)\n",
      "Training data loss tensor(6552.7847, device='cuda:0', grad_fn=<AddBackward0>)\n",
      "Training data loss tensor(6542.1406, device='cuda:0', grad_fn=<AddBackward0>)\n",
      "Training data loss tensor(6534.6577, device='cuda:0', grad_fn=<AddBackward0>)\n",
      "Training data loss tensor(6525.2065, device='cuda:0', grad_fn=<AddBackward0>)\n",
      "Training data loss tensor(6522.9473, device='cuda:0', grad_fn=<AddBackward0>)\n",
      "Training data loss tensor(6524.5854, device='cuda:0', grad_fn=<AddBackward0>)\n",
      "Training data loss tensor(6517.4365, device='cuda:0', grad_fn=<AddBackward0>)\n",
      "Training data loss tensor(6517.0034, device='cuda:0', grad_fn=<AddBackward0>)\n",
      "Training data loss tensor(6510.2788, device='cuda:0', grad_fn=<AddBackward0>)\n",
      "Training data loss tensor(6509.8125, device='cuda:0', grad_fn=<AddBackward0>)\n",
      "Training data loss tensor(6513.5464, device='cuda:0', grad_fn=<AddBackward0>)\n",
      "Training data loss tensor(6510.9375, device='cuda:0', grad_fn=<AddBackward0>)\n",
      "Training data loss tensor(6514.2471, device='cuda:0', grad_fn=<AddBackward0>)\n",
      "Training data loss tensor(6515.6748, device='cuda:0', grad_fn=<AddBackward0>)\n",
      "Training data loss tensor(6516.5747, device='cuda:0', grad_fn=<AddBackward0>)\n",
      "Training data loss tensor(6509.2446, device='cuda:0', grad_fn=<AddBackward0>)\n",
      "Training data loss tensor(6513.4639, device='cuda:0', grad_fn=<AddBackward0>)\n",
      "Training data loss tensor(6514.9116, device='cuda:0', grad_fn=<AddBackward0>)\n",
      "Training data loss tensor(6508.0464, device='cuda:0', grad_fn=<AddBackward0>)\n",
      "Training data loss tensor(6518.2749, device='cuda:0', grad_fn=<AddBackward0>)\n",
      "Training data loss tensor(6518.4980, device='cuda:0', grad_fn=<AddBackward0>)\n",
      "Training data loss tensor(6519.7983, device='cuda:0', grad_fn=<AddBackward0>)\n",
      "Training data loss tensor(6524.5928, device='cuda:0', grad_fn=<AddBackward0>)\n",
      "Training data loss tensor(6522.3525, device='cuda:0', grad_fn=<AddBackward0>)\n",
      "Training data loss tensor(6513.3008, device='cuda:0', grad_fn=<AddBackward0>)\n",
      "Training data loss tensor(6527.3003, device='cuda:0', grad_fn=<AddBackward0>)\n",
      "Training data loss tensor(6519.6118, device='cuda:0', grad_fn=<AddBackward0>)\n",
      "Training data loss tensor(6522.4731, device='cuda:0', grad_fn=<AddBackward0>)\n",
      "Training data loss tensor(6514.5107, device='cuda:0', grad_fn=<AddBackward0>)\n",
      "Finished Training\n"
     ]
    },
    {
     "data": {
      "image/png": "[encoded data removed]",
      "text/plain": [
       "<Figure size 432x288 with 1 Axes>"
      ]
     },
     "metadata": {
      "needs_background": "light"
     },
     "output_type": "display_data"
    }
   ],
   "source": [
    "model_mln = MultiLayerNet(3072, 128, 100)\n",
    "train(model_mln, trainloader, 30)"
   ]
  },
  {
   "cell_type": "code",
   "execution_count": 78,
   "metadata": {},
   "outputs": [
    {
     "name": "stdout",
     "output_type": "stream",
     "text": [
      "Training data loss tensor(6887.3818, device='cuda:0', grad_fn=<AddBackward0>)\n",
      "Training data loss tensor(6739.9268, device='cuda:0', grad_fn=<AddBackward0>)\n",
      "Training data loss tensor(6668.0918, device='cuda:0', grad_fn=<AddBackward0>)\n",
      "Training data loss tensor(6622.5063, device='cuda:0', grad_fn=<AddBackward0>)\n",
      "Training data loss tensor(6591.8550, device='cuda:0', grad_fn=<AddBackward0>)\n",
      "Training data loss tensor(6553.8696, device='cuda:0', grad_fn=<AddBackward0>)\n",
      "Training data loss tensor(6540.2280, device='cuda:0', grad_fn=<AddBackward0>)\n",
      "Training data loss tensor(6527.5195, device='cuda:0', grad_fn=<AddBackward0>)\n",
      "Training data loss tensor(6518.2949, device='cuda:0', grad_fn=<AddBackward0>)\n",
      "Training data loss tensor(6508.9380, device='cuda:0', grad_fn=<AddBackward0>)\n",
      "Training data loss tensor(6508.5034, device='cuda:0', grad_fn=<AddBackward0>)\n",
      "Training data loss tensor(6504.7866, device='cuda:0', grad_fn=<AddBackward0>)\n",
      "Training data loss tensor(6501.3018, device='cuda:0', grad_fn=<AddBackward0>)\n",
      "Training data loss tensor(6496.7930, device='cuda:0', grad_fn=<AddBackward0>)\n",
      "Training data loss tensor(6499.3877, device='cuda:0', grad_fn=<AddBackward0>)\n",
      "Training data loss tensor(6483.9199, device='cuda:0', grad_fn=<AddBackward0>)\n",
      "Training data loss tensor(6497.8140, device='cuda:0', grad_fn=<AddBackward0>)\n",
      "Training data loss tensor(6494.4351, device='cuda:0', grad_fn=<AddBackward0>)\n",
      "Training data loss tensor(6489.2646, device='cuda:0', grad_fn=<AddBackward0>)\n",
      "Training data loss tensor(6489.8364, device='cuda:0', grad_fn=<AddBackward0>)\n",
      "Training data loss tensor(6488.5508, device='cuda:0', grad_fn=<AddBackward0>)\n",
      "Training data loss tensor(6484.1499, device='cuda:0', grad_fn=<AddBackward0>)\n",
      "Training data loss tensor(6479.3828, device='cuda:0', grad_fn=<AddBackward0>)\n",
      "Training data loss tensor(6477.9619, device='cuda:0', grad_fn=<AddBackward0>)\n",
      "Training data loss tensor(6479.1675, device='cuda:0', grad_fn=<AddBackward0>)\n",
      "Training data loss tensor(6479.4609, device='cuda:0', grad_fn=<AddBackward0>)\n",
      "Training data loss tensor(6476.0933, device='cuda:0', grad_fn=<AddBackward0>)\n",
      "Training data loss tensor(6475.0474, device='cuda:0', grad_fn=<AddBackward0>)\n",
      "Training data loss tensor(6471.2290, device='cuda:0', grad_fn=<AddBackward0>)\n",
      "Training data loss tensor(6481.3232, device='cuda:0', grad_fn=<AddBackward0>)\n",
      "Finished Training\n"
     ]
    },
    {
     "data": {
      "image/png": "[encoded data removed]",
      "text/plain": [
       "<Figure size 432x288 with 1 Axes>"
      ]
     },
     "metadata": {
      "needs_background": "light"
     },
     "output_type": "display_data"
    }
   ],
   "source": [
    "cnn2_model = ConvNet_2()\n",
    "train(cnn2_model, trainloader, 30)"
   ]
  },
  {
   "cell_type": "code",
   "execution_count": 79,
   "metadata": {},
   "outputs": [
    {
     "name": "stdout",
     "output_type": "stream",
     "text": [
      "('Accuracy of the network on the 10000 test images: 7 %', 7.67)\n",
      "('Accuracy of the network on the 10000 test images: 7 %', 7.11)\n"
     ]
    },
    {
     "data": {
      "text/plain": [
       "['Accuracy of apple : 30 %',\n",
       " 'Accuracy of aquarium_fish :  0 %',\n",
       " 'Accuracy of  baby :  0 %',\n",
       " 'Accuracy of  bear : 15 %',\n",
       " 'Accuracy of beaver :  0 %',\n",
       " 'Accuracy of   bed : 13 %',\n",
       " 'Accuracy of   bee : 10 %',\n",
       " 'Accuracy of beetle :  0 %',\n",
       " 'Accuracy of bicycle :  1 %',\n",
       " 'Accuracy of bottle :  0 %',\n",
       " 'Accuracy of  bowl :  1 %',\n",
       " 'Accuracy of   boy : 13 %',\n",
       " 'Accuracy of bridge :  0 %',\n",
       " 'Accuracy of   bus :  0 %',\n",
       " 'Accuracy of butterfly :  9 %',\n",
       " 'Accuracy of camel :  2 %',\n",
       " 'Accuracy of   can :  0 %',\n",
       " 'Accuracy of castle :  7 %',\n",
       " 'Accuracy of caterpillar : 35 %',\n",
       " 'Accuracy of cattle :  9 %',\n",
       " 'Accuracy of chair :  2 %',\n",
       " 'Accuracy of chimpanzee :  0 %',\n",
       " 'Accuracy of clock :  0 %',\n",
       " 'Accuracy of cloud : 11 %',\n",
       " 'Accuracy of cockroach : 27 %',\n",
       " 'Accuracy of couch :  0 %',\n",
       " 'Accuracy of  crab :  0 %',\n",
       " 'Accuracy of crocodile :  0 %',\n",
       " 'Accuracy of   cup :  0 %',\n",
       " 'Accuracy of dinosaur :  2 %',\n",
       " 'Accuracy of dolphin :  3 %',\n",
       " 'Accuracy of elephant :  0 %',\n",
       " 'Accuracy of flatfish :  0 %',\n",
       " 'Accuracy of forest :  2 %',\n",
       " 'Accuracy of   fox :  0 %',\n",
       " 'Accuracy of  girl :  0 %',\n",
       " 'Accuracy of hamster :  3 %',\n",
       " 'Accuracy of house :  0 %',\n",
       " 'Accuracy of kangaroo :  0 %',\n",
       " 'Accuracy of keyboard :  0 %',\n",
       " 'Accuracy of  lamp :  0 %',\n",
       " 'Accuracy of lawn_mower :  4 %',\n",
       " 'Accuracy of leopard :  0 %',\n",
       " 'Accuracy of  lion :  1 %',\n",
       " 'Accuracy of lizard :  0 %',\n",
       " 'Accuracy of lobster :  0 %',\n",
       " 'Accuracy of   man :  0 %',\n",
       " 'Accuracy of maple_tree :  4 %',\n",
       " 'Accuracy of motorcycle :  0 %',\n",
       " 'Accuracy of mountain :  6 %',\n",
       " 'Accuracy of mouse :  0 %',\n",
       " 'Accuracy of mushroom :  0 %',\n",
       " 'Accuracy of oak_tree : 68 %',\n",
       " 'Accuracy of orange : 77 %',\n",
       " 'Accuracy of orchid :  7 %',\n",
       " 'Accuracy of otter :  0 %',\n",
       " 'Accuracy of palm_tree :  3 %',\n",
       " 'Accuracy of  pear :  0 %',\n",
       " 'Accuracy of pickup_truck :  0 %',\n",
       " 'Accuracy of pine_tree :  0 %',\n",
       " 'Accuracy of plain : 21 %',\n",
       " 'Accuracy of plate : 38 %',\n",
       " 'Accuracy of poppy :  0 %',\n",
       " 'Accuracy of porcupine :  0 %',\n",
       " 'Accuracy of possum :  0 %',\n",
       " 'Accuracy of rabbit :  0 %',\n",
       " 'Accuracy of raccoon : 61 %',\n",
       " 'Accuracy of   ray :  2 %',\n",
       " 'Accuracy of  road : 46 %',\n",
       " 'Accuracy of rocket :  0 %',\n",
       " 'Accuracy of  rose : 27 %',\n",
       " 'Accuracy of   sea :  2 %',\n",
       " 'Accuracy of  seal :  0 %',\n",
       " 'Accuracy of shark : 53 %',\n",
       " 'Accuracy of shrew :  0 %',\n",
       " 'Accuracy of skunk :  0 %',\n",
       " 'Accuracy of skyscraper :  4 %',\n",
       " 'Accuracy of snail :  0 %',\n",
       " 'Accuracy of snake :  0 %',\n",
       " 'Accuracy of spider :  0 %',\n",
       " 'Accuracy of squirrel :  0 %',\n",
       " 'Accuracy of streetcar :  0 %',\n",
       " 'Accuracy of sunflower :  9 %',\n",
       " 'Accuracy of sweet_pepper :  0 %',\n",
       " 'Accuracy of table :  1 %',\n",
       " 'Accuracy of  tank :  7 %',\n",
       " 'Accuracy of telephone : 17 %',\n",
       " 'Accuracy of television :  0 %',\n",
       " 'Accuracy of tiger : 17 %',\n",
       " 'Accuracy of tractor :  0 %',\n",
       " 'Accuracy of train :  0 %',\n",
       " 'Accuracy of trout :  0 %',\n",
       " 'Accuracy of tulip : 13 %',\n",
       " 'Accuracy of turtle :  0 %',\n",
       " 'Accuracy of wardrobe :  3 %',\n",
       " 'Accuracy of whale :  7 %',\n",
       " 'Accuracy of willow_tree : 18 %',\n",
       " 'Accuracy of  wolf :  0 %',\n",
       " 'Accuracy of woman :  0 %',\n",
       " 'Accuracy of  worm :  0 %']"
      ]
     },
     "execution_count": 79,
     "metadata": {},
     "output_type": "execute_result"
    }
   ],
   "source": [
    "print(valid(model_mln,testloader))\n",
    "valid_class(model_mln,testloader,classes)\n",
    "\n",
    "print(valid(cnn2_model,testloader))\n",
    "valid_class(cnn2_model,testloader,classes)"
   ]
  },
  {
   "cell_type": "code",
   "execution_count": 81,
   "metadata": {},
   "outputs": [
    {
     "name": "stdout",
     "output_type": "stream",
     "text": [
      "==========================================================================================\n",
      "Layer (type:depth-idx)                   Output Shape              Param #\n",
      "==========================================================================================\n",
      "├─Conv2d: 1-1                            [-1, 6, 28, 28]           456\n",
      "├─BatchNorm2d: 1-2                       [-1, 6, 28, 28]           12\n",
      "├─AvgPool2d: 1-3                         [-1, 6, 14, 14]           --\n",
      "├─Conv2d: 1-4                            [-1, 16, 10, 10]          2,416\n",
      "├─AvgPool2d: 1-5                         [-1, 16, 5, 5]            --\n",
      "├─Conv2d: 1-6                            [-1, 120, 1, 1]           48,120\n",
      "├─Linear: 1-7                            [-1, 84]                  10,164\n",
      "├─Dropout: 1-8                           [-1, 84]                  --\n",
      "├─Linear: 1-9                            [-1, 100]                 8,500\n",
      "==========================================================================================\n",
      "Total params: 69,668\n",
      "Trainable params: 69,668\n",
      "Non-trainable params: 0\n",
      "Total mult-adds (M): 0.66\n",
      "==========================================================================================\n",
      "Input size (MB): 0.01\n",
      "Forward/backward pass size (MB): 0.09\n",
      "Params size (MB): 0.27\n",
      "Estimated Total Size (MB): 0.36\n",
      "==========================================================================================\n",
      "==========================================================================================\n",
      "Layer (type:depth-idx)                   Output Shape              Param #\n",
      "==========================================================================================\n",
      "├─Linear: 1-1                            [-1, 128]                 393,344\n",
      "├─BatchNorm1d: 1-2                       [-1, 128]                 256\n",
      "├─Dropout: 1-3                           [-1, 128]                 --\n",
      "├─Linear: 1-4                            [-1, 64]                  8,256\n",
      "├─Linear: 1-5                            [-1, 100]                 6,500\n",
      "==========================================================================================\n",
      "Total params: 408,356\n",
      "Trainable params: 408,356\n",
      "Non-trainable params: 0\n",
      "Total mult-adds (M): 0.41\n",
      "==========================================================================================\n",
      "Input size (MB): 0.01\n",
      "Forward/backward pass size (MB): 0.00\n",
      "Params size (MB): 1.56\n",
      "Estimated Total Size (MB): 1.57\n",
      "==========================================================================================\n"
     ]
    },
    {
     "data": {
      "text/plain": [
       "==========================================================================================\n",
       "Layer (type:depth-idx)                   Output Shape              Param #\n",
       "==========================================================================================\n",
       "├─Linear: 1-1                            [-1, 128]                 393,344\n",
       "├─BatchNorm1d: 1-2                       [-1, 128]                 256\n",
       "├─Dropout: 1-3                           [-1, 128]                 --\n",
       "├─Linear: 1-4                            [-1, 64]                  8,256\n",
       "├─Linear: 1-5                            [-1, 100]                 6,500\n",
       "==========================================================================================\n",
       "Total params: 408,356\n",
       "Trainable params: 408,356\n",
       "Non-trainable params: 0\n",
       "Total mult-adds (M): 0.41\n",
       "==========================================================================================\n",
       "Input size (MB): 0.01\n",
       "Forward/backward pass size (MB): 0.00\n",
       "Params size (MB): 1.56\n",
       "Estimated Total Size (MB): 1.57\n",
       "=========================================================================================="
      ]
     },
     "execution_count": 81,
     "metadata": {},
     "output_type": "execute_result"
    }
   ],
   "source": [
    "summary(cnn2_model, (3, 32, 32))\n",
    "summary(model_mln, (3, 32, 32))"
   ]
  },
  {
   "cell_type": "markdown",
   "metadata": {},
   "source": [
    "Runing Random Search on all 4 models"
   ]
  },
  {
   "cell_type": "code",
   "execution_count": null,
   "metadata": {},
   "outputs": [],
   "source": [
    "print(rand_search('cnn',param_dist, classes, 25))"
   ]
  },
  {
   "cell_type": "code",
   "execution_count": null,
   "metadata": {},
   "outputs": [],
   "source": [
    "print(rand_search('tln',param_dist, classes, 25))"
   ]
  },
  {
   "cell_type": "code",
   "execution_count": null,
   "metadata": {},
   "outputs": [],
   "source": [
    "print(rand_search('mln',param_dist, classes, 25))"
   ]
  },
  {
   "cell_type": "code",
   "execution_count": null,
   "metadata": {},
   "outputs": [],
   "source": [
    "print(rand_search('cnn2',param_dist, classes, 25))"
   ]
  },
  {
   "cell_type": "markdown",
   "metadata": {
    "id": "3XX8c2fb99iA"
   },
   "source": [
    "## **Session 2:  Finetuning the ConvNet**\n",
    "### 2.1 STL-10 DATASET\n",
    "> The above networks are trained on CIFAR-100, which\n",
    "contains the images of 100 different object categories, each of which has $32\\times32 \\times3$ dimensions. \n",
    "The dataset we use throughout this session is a subset of [STL-10](https://cs.stanford.edu/~acoates/stl10/)\n",
    "with higher resolution and different object classes. So, there is a discrepancy between the previous dataset (CIFAR-100) and the new dataset (STL-10). One solution would be to train the whole network from scratch. However, the number of parameters is too large to be trained properly with such few images. Another way is to use the pre-trained network (on CIFAR-100) and then finetune the network on the new dataset (STL-10) (*e.g.*, use the same architectures in all layers except the output layer, as the number of output classes changes (from 100 to 5)).\n"
   ]
  },
  {
   "cell_type": "code",
   "execution_count": 167,
   "metadata": {
    "colab": {
     "base_uri": "https://localhost:8080/"
    },
    "id": "XR1xyOW_sib8",
    "outputId": "57689c51-a2cc-40c7-c6fb-216010d2f13f"
   },
   "outputs": [
    {
     "name": "stdout",
     "output_type": "stream",
     "text": [
      "sys.version_info(major=3, minor=9, micro=12, releaselevel='final', serial=0)\n"
     ]
    }
   ],
   "source": [
    "# Use the following codes if necessary\n",
    "# referenced codes: https://cs.stanford.edu/~acoates/stl10/\n",
    "\n",
    "from __future__ import print_function\n",
    "\n",
    "import sys\n",
    "import os, sys, tarfile, errno\n",
    "import numpy as np\n",
    "import matplotlib.pyplot as plt\n",
    "    \n",
    "if sys.version_info >= (3, 0, 0):\n",
    "    import urllib.request as urllib\n",
    "else:\n",
    "    import urllib\n",
    "\n",
    "try:\n",
    "    from imageio import imsave\n",
    "except:\n",
    "    from scipy.misc import imsave\n",
    "\n",
    "print(sys.version_info) \n",
    "\n",
    "# image shape\n",
    "HEIGHT = 96\n",
    "WIDTH = 96\n",
    "DEPTH = 3\n",
    "\n",
    "# size of a single image in bytes\n",
    "SIZE = HEIGHT * WIDTH * DEPTH\n",
    "\n",
    "# path to the directory with the data\n",
    "DATA_DIR = './data'\n",
    "\n",
    "# url of the binary data\n",
    "DATA_URL = 'http://ai.stanford.edu/~acoates/stl10/stl10_binary.tar.gz'\n",
    "\n",
    "# path to the binary train file with image data\n",
    "DATA_PATH = './data/stl10_binary/train_X.bin'\n",
    "\n",
    "# path to the binary train file with labels\n",
    "LABEL_PATH = './data/stl10_binary/train_y.bin'\n",
    "\n",
    "def read_labels(path_to_labels):\n",
    "    \"\"\"\n",
    "    :param path_to_labels: path to the binary file containing labels from the STL-10 dataset\n",
    "    :return: an array containing the labels\n",
    "    \"\"\"\n",
    "    with open(path_to_labels, 'rb') as f:\n",
    "        labels = np.fromfile(f, dtype=np.uint8)\n",
    "        return labels\n",
    "\n",
    "\n",
    "def read_all_images(path_to_data):\n",
    "    \"\"\"\n",
    "    :param path_to_data: the file containing the binary images from the STL-10 dataset\n",
    "    :return: an array containing all the images\n",
    "    \"\"\"\n",
    "\n",
    "    with open(path_to_data, 'rb') as f:\n",
    "        # read whole file in uint8 chunks\n",
    "        everything = np.fromfile(f, dtype=np.uint8)\n",
    "\n",
    "        # We force the data into 3x96x96 chunks, since the\n",
    "        # images are stored in \"column-major order\", meaning\n",
    "        # that \"the first 96*96 values are the red channel,\n",
    "        # the next 96*96 are green, and the last are blue.\"\n",
    "        # The -1 is since the size of the pictures depends\n",
    "        # on the input file, and this way numpy determines\n",
    "        # the size on its own.\n",
    "\n",
    "        images = np.reshape(everything, (-1, 3, 96, 96))\n",
    "\n",
    "        # Now transpose the images into a standard image format\n",
    "        # readable by, for example, matplotlib.imshow\n",
    "        # You might want to comment this line or reverse the shuffle\n",
    "        # if you will use a learning algorithm like CNN, since they like\n",
    "        # their channels separated.\n",
    "        images = np.transpose(images, (0, 3, 2, 1))\n",
    "        return images\n",
    "\n",
    "\n",
    "def read_single_image(image_file):\n",
    "    \"\"\"\n",
    "    CAREFUL! - this method uses a file as input instead of the path - so the\n",
    "    position of the reader will be remembered outside of context of this method.\n",
    "    :param image_file: the open file containing the images\n",
    "    :return: a single image\n",
    "    \"\"\"\n",
    "    # read a single image, count determines the number of uint8's to read\n",
    "    image = np.fromfile(image_file, dtype=np.uint8, count=SIZE)\n",
    "    # force into image matrix\n",
    "    image = np.reshape(image, (3, 96, 96))\n",
    "    # transpose to standard format\n",
    "    # You might want to comment this line or reverse the shuffle\n",
    "    # if you will use a learning algorithm like CNN, since they like\n",
    "    # their channels separated.\n",
    "    image = np.transpose(image, (2, 1, 0))\n",
    "    return image\n",
    "\n",
    "\n",
    "def plot_image(image):\n",
    "    \"\"\"\n",
    "    :param image: the image to be plotted in a 3-D matrix format\n",
    "    :return: None\n",
    "    \"\"\"\n",
    "    plt.imshow(image)\n",
    "    plt.show()\n",
    "\n",
    "def save_image(image, name):\n",
    "    imsave(\"%s.png\" % name, image, format=\"png\")\n",
    "\n",
    "def download_and_extract():\n",
    "    \"\"\"\n",
    "    Download and extract the STL-10 dataset\n",
    "    :return: None\n",
    "    \"\"\"\n",
    "    dest_directory = DATA_DIR\n",
    "    if not os.path.exists(dest_directory):\n",
    "        os.makedirs(dest_directory)\n",
    "    filename = DATA_URL.split('/')[-1]\n",
    "    filepath = os.path.join(dest_directory, filename)\n",
    "    if not os.path.exists(filepath):\n",
    "        def _progress(count, block_size, total_size):\n",
    "            sys.stdout.write('\\rDownloading %s %.2f%%' % (filename,\n",
    "                float(count * block_size) / float(total_size) * 100.0))\n",
    "            sys.stdout.flush()\n",
    "        filepath, _ = urllib.urlretrieve(DATA_URL, filepath, reporthook=_progress)\n",
    "        print('Downloaded', filename)\n",
    "        tarfile.open(filepath, 'r:gz').extractall(dest_directory)\n",
    "\n",
    "def save_images(images, labels):\n",
    "    print(\"Saving images to disk\")\n",
    "    i = 0\n",
    "    for image in images:\n",
    "        label = labels[i]\n",
    "        directory = './img/' + str(label) + '/'\n",
    "        try:\n",
    "            os.makedirs(directory, exist_ok=True)\n",
    "        except OSError as exc:\n",
    "            if exc.errno == errno.EEXIST:\n",
    "                pass\n",
    "        filename = directory + str(i)\n",
    "        print(filename)\n",
    "        save_image(image, filename)\n",
    "        i = i+1\n",
    "    "
   ]
  },
  {
   "cell_type": "code",
   "execution_count": 168,
   "metadata": {
    "colab": {
     "base_uri": "https://localhost:8080/",
     "height": 303
    },
    "id": "uU0aikuks2Lp",
    "outputId": "77f31a37-ead0-4df3-858f-529b19607948"
   },
   "outputs": [
    {
     "data": {
      "image/png": "[encoded data removed]",
      "text/plain": [
       "<Figure size 432x288 with 1 Axes>"
      ]
     },
     "metadata": {
      "needs_background": "light"
     },
     "output_type": "display_data"
    },
    {
     "name": "stdout",
     "output_type": "stream",
     "text": [
      "(5000, 96, 96, 3)\n",
      "torch.Size([5])\n",
      "Saving images to disk\n",
      "./img/tensor(29)/0\n",
      "./img/tensor(85)/1\n",
      "./img/tensor(9)/2\n",
      "./img/tensor(64)/3\n",
      "./img/tensor(22)/4\n"
     ]
    },
    {
     "ename": "IndexError",
     "evalue": "index 5 is out of bounds for dimension 0 with size 5",
     "output_type": "error",
     "traceback": [
      "\u001b[0;31m---------------------------------------------------------------------------\u001b[0m",
      "\u001b[0;31mIndexError\u001b[0m                                Traceback (most recent call last)",
      "Input \u001b[0;32mIn [168]\u001b[0m, in \u001b[0;36m<cell line: 17>\u001b[0;34m()\u001b[0m\n\u001b[1;32m     14\u001b[0m \u001b[38;5;28mprint\u001b[39m(labels\u001b[38;5;241m.\u001b[39mshape)\n\u001b[1;32m     16\u001b[0m \u001b[38;5;66;03m# # save images to disk\u001b[39;00m\n\u001b[0;32m---> 17\u001b[0m \u001b[43msave_images\u001b[49m\u001b[43m(\u001b[49m\u001b[43mimages\u001b[49m\u001b[43m,\u001b[49m\u001b[43m \u001b[49m\u001b[43mlabels\u001b[49m\u001b[43m)\u001b[49m\n",
      "Input \u001b[0;32mIn [167]\u001b[0m, in \u001b[0;36msave_images\u001b[0;34m(images, labels)\u001b[0m\n\u001b[1;32m    133\u001b[0m i \u001b[38;5;241m=\u001b[39m \u001b[38;5;241m0\u001b[39m\n\u001b[1;32m    134\u001b[0m \u001b[38;5;28;01mfor\u001b[39;00m image \u001b[38;5;129;01min\u001b[39;00m images:\n\u001b[0;32m--> 135\u001b[0m     label \u001b[38;5;241m=\u001b[39m \u001b[43mlabels\u001b[49m\u001b[43m[\u001b[49m\u001b[43mi\u001b[49m\u001b[43m]\u001b[49m\n\u001b[1;32m    136\u001b[0m     directory \u001b[38;5;241m=\u001b[39m \u001b[38;5;124m'\u001b[39m\u001b[38;5;124m./img/\u001b[39m\u001b[38;5;124m'\u001b[39m \u001b[38;5;241m+\u001b[39m \u001b[38;5;28mstr\u001b[39m(label) \u001b[38;5;241m+\u001b[39m \u001b[38;5;124m'\u001b[39m\u001b[38;5;124m/\u001b[39m\u001b[38;5;124m'\u001b[39m\n\u001b[1;32m    137\u001b[0m     \u001b[38;5;28;01mtry\u001b[39;00m:\n",
      "\u001b[0;31mIndexError\u001b[0m: index 5 is out of bounds for dimension 0 with size 5"
     ]
    }
   ],
   "source": [
    "# download data if needed\n",
    "download_and_extract()\n",
    "\n",
    "# # test to check if the image is read correctly\n",
    "with open(DATA_PATH) as f:\n",
    "    image = read_single_image(f)\n",
    "    plot_image(image)\n",
    "\n",
    "# # test to check if the whole dataset is read correctly\n",
    "images = read_all_images(DATA_PATH)\n",
    "print(images.shape)\n",
    "\n",
    "# labels = read_labels(LABEL_PATH)\n",
    "print(labels.shape)\n",
    "\n",
    "# # save images to disk\n",
    "save_images(images, labels)"
   ]
  },
  {
   "cell_type": "markdown",
   "metadata": {
    "id": "pW0p0R6d99iA"
   },
   "source": [
    "#### **`Q2.1 Create the STL10_Dataset (5-pts)`**\n",
    "In this Session, download STL-10 and extract 5 classes from STL-10 training dataset. The the labels of images will be defined as: \n",
    "\n",
    "`{1: 'car',2:'deer',3:'horse',4:'monkey',5:'truck'}`\n",
    "\n",
    " Extract mentioned 5 classes of images from STL-10. Complement *`STL10_Dataset`* class and match each class with the label accordingly. Hint: You can use the codes above to help to complement *`STL10_Dataset`* class. (5-pts)\n"
   ]
  },
  {
   "cell_type": "code",
   "execution_count": 172,
   "metadata": {},
   "outputs": [],
   "source": [
    "save_image(images[1],\"first\")"
   ]
  },
  {
   "cell_type": "code",
   "execution_count": 31,
   "metadata": {
    "id": "lPhepFAq99iA"
   },
   "outputs": [],
   "source": [
    "class STL10_Dataset(Dataset):\n",
    "\n",
    "    def __init__(self, root, train=True, transform=None):\n",
    "        \n",
    "        self.root = root\n",
    "        self.train = train\n",
    "        self.data = []\n",
    "        self.labels = []\n",
    "        self.transform = transform\n",
    "\n",
    "        if train:\n",
    "            x_path =  'train_X.bin'\n",
    "            y_path =  'train_y.bin'\n",
    "        else:\n",
    "            x_path = 'test_X.bin'\n",
    "            y_path = 'test_y.bin'\n",
    "\n",
    "        # DATA\n",
    "        path_to_data = os.path.join(self.root, x_path)\n",
    "        with open(path_to_data, 'rb') as f:\n",
    "            input = np.fromfile(f, dtype=np.uint8)\n",
    "            images = np.transpose(np.reshape(input, (-1, 3, 96, 96)), (0, 1, 3, 2))\n",
    "        self.data = images\n",
    "\n",
    "        # LABELS\n",
    "        labels = None\n",
    "        path_to_labels = os.path.join(self.root, y_path)\n",
    "        with open(path_to_labels, 'rb') as f:\n",
    "            labels = np.fromfile(f, dtype=np.uint8) - 1\n",
    "        self.labels = labels\n",
    "\n",
    "        #KEEP ONLY REQUIRED LABELS \n",
    "        self.data = self.data[self.labels < 5]\n",
    "        self.labels = self.labels[self.labels < 5]\n",
    "\n",
    "        #CHECK SHAPE\n",
    "        print(self.data.shape, self.labels.shape[0])\n",
    " \n",
    "\n",
    "    def __len__(self):\n",
    "        return self.data.shape[0]\n",
    "\n",
    "    def __getitem__(self, item):\n",
    "\n",
    "        img = self.data[item]\n",
    "        target = int(self.labels[item])\n",
    "\n",
    "        # Transform (if applicable)\n",
    "        if self.transform is not None:\n",
    "            img = self.transform(img)\n",
    "\n",
    "        return img, target"
   ]
  },
  {
   "cell_type": "code",
   "execution_count": 32,
   "metadata": {},
   "outputs": [
    {
     "name": "stdout",
     "output_type": "stream",
     "text": [
      "(2500, 3, 96, 96) 2500\n",
      "(4000, 3, 96, 96) 4000\n"
     ]
    }
   ],
   "source": [
    "transform_stl = transforms.Compose([\n",
    "                    transforms.ToPILImage(),\n",
    "                    transforms.Resize((32, 32)), # Scale to 32x32\n",
    "                    transforms.ToTensor(),\n",
    "                    transforms.Normalize((0.5, 0.5, 0.5), (0.5, 0.5, 0.5)),\n",
    "                    ])\n",
    "\n",
    "# Use our custom dataset with the dataloader\n",
    "trainset_stl = STL10_Dataset(root='./data/stl10_binary', train=True, transform=transform_stl)\n",
    "trainloader_stl = torch.utils.data.DataLoader(trainset_stl, batch_size=4, shuffle=True, num_workers=2)\n",
    "testset_stl = STL10_Dataset(root='./data/stl10_binary', train=False, transform=transform_stl)\n",
    "testloader_stl = torch.utils.data.DataLoader(testset_stl, batch_size=4, shuffle=False, num_workers=2)"
   ]
  },
  {
   "cell_type": "code",
   "execution_count": null,
   "metadata": {},
   "outputs": [],
   "source": [
    "new_train = STL10_Dataset(path1, transform = transform)\n",
    "trainloader_stl = DataLoader(new_train, batch_size=50, shuffle=True, num_workers=2)"
   ]
  },
  {
   "cell_type": "markdown",
   "metadata": {
    "id": "pNLyFVEWw3Ge"
   },
   "source": [
    "### 2.2 Fine-tuning ConvNet\n",
    "You should load the pre-trained parameters and modify the output layer of pre-trained ConvNet from 100 to 5. You can either load the pre-trained parameters and then modify the output layer, or change the output layer firstly and then load the matched pre-trained parameters. The examples can be found at [link1](https://pytorch.org/tutorials/intermediate/torchvision_tutorial.html) and [link2](https://pytorch.org/tutorials/beginner/transfer_learning_tutorial.html).\n"
   ]
  },
  {
   "cell_type": "markdown",
   "metadata": {
    "id": "AC3ipaYR99iB"
   },
   "source": [
    "#### **`Q2.2  Finetuning from ConvNet (10-pts)`**\n",
    "1. Load the pre-trained parameters (pretrained on CIFAR-100) and modify the ConvNet. (5-pts)\n",
    "2. Train the model and show the results (settings of hyperparameters, accuracy, learning curve). (5-pts)\n",
    "\n",
    "**Hint**:  Once the network is trained, it is a good practice to understand the feature space by visualization techniques. There are several techniques to visualize the feature space. [**t-sne**](https://lvdmaaten.github.io/tsne/) is a dimensionality reduction method which can help you better understand the feature learning process."
   ]
  },
  {
   "cell_type": "code",
   "execution_count": null,
   "metadata": {
    "id": "PN_l_WX199iB"
   },
   "outputs": [],
   "source": [
    "class ConvNet_5(nn.Module):\n",
    "    # Complete the code using LeNet-5\n",
    "    # reference: https://ieeexplore.ieee.org/document/726791\n",
    "    def __init__(self):\n",
    "        super(ConvNet_2, self).__init__()\n",
    "        self.C1 = nn.Conv2d(3, 6, 5)\n",
    "        self.BN2 = nn.BatchNorm2d(6)\n",
    "        self.S3 = nn.AvgPool2d(2,2)\n",
    "        self.C4 = nn.Conv2d(6, 16, 5)\n",
    "        self.S5 = nn.AvgPool2d(2,2)\n",
    "        self.C6 = nn.Conv2d(16, 120, 5)\n",
    "        self.F7 = nn.Linear(120, 84)\n",
    "        self.D8 = nn.Dropout(0.4)\n",
    "        self.out = nn.Linear(84, 5)\n",
    "        \n",
    "    def forward(self, x):\n",
    "        x = self.BN2(self.C1(x))\n",
    "        x = F.leaky_relu(x)\n",
    "        x = self.S3(x)\n",
    "        x = F.leaky_relu(self.C4(x))\n",
    "        x = self.S5(x)\n",
    "        x = F.leaky_relu(self.C6(x))\n",
    "        #flatten before linear layers\n",
    "        x = x.view(x.size(0), -1)\n",
    "        x = F.leaky_relu(self.F7(x))\n",
    "        x = self.D8(x)\n",
    "        x = self.out(x)\n",
    "        \n",
    "        return x"
   ]
  },
  {
   "cell_type": "code",
   "execution_count": null,
   "metadata": {
    "id": "5jkgXVGt99iB"
   },
   "outputs": [],
   "source": [
    "def train_model(model, criterion, optimizer, scheduler, num_epochs=25):\n",
    "    since = time.time()\n",
    "\n",
    "    best_model_wts = copy.deepcopy(model.state_dict())\n",
    "    best_acc = 0.0\n",
    "\n",
    "    for epoch in range(num_epochs):\n",
    "        print(f'Epoch {epoch}/{num_epochs - 1}')\n",
    "        print('-' * 10)\n",
    "\n",
    "        # Each epoch has a training and validation phase\n",
    "        for phase in ['train', 'val']:\n",
    "            if phase == 'train':\n",
    "                model.train()  # Set model to training mode\n",
    "            else:\n",
    "                model.eval()   # Set model to evaluate mode\n",
    "\n",
    "            running_loss = 0.0\n",
    "            running_corrects = 0\n",
    "\n",
    "            # Iterate over data.\n",
    "            for inputs, labels in dataloaders[phase]:\n",
    "                inputs = inputs.to(device)\n",
    "                labels = labels.to(device)\n",
    "\n",
    "                # zero the parameter gradients\n",
    "                optimizer.zero_grad()\n",
    "\n",
    "                # forward\n",
    "                # track history if only in train\n",
    "                with torch.set_grad_enabled(phase == 'train'):\n",
    "                    outputs = model(inputs)\n",
    "                    _, preds = torch.max(outputs, 1)\n",
    "                    loss = criterion(outputs, labels)\n",
    "\n",
    "                    # backward + optimize only if in training phase\n",
    "                    if phase == 'train':\n",
    "                        loss.backward()\n",
    "                        optimizer.step()\n",
    "\n",
    "                # statistics\n",
    "                running_loss += loss.item() * inputs.size(0)\n",
    "                running_corrects += torch.sum(preds == labels.data)\n",
    "            if phase == 'train':\n",
    "                scheduler.step()\n",
    "\n",
    "            epoch_loss = running_loss / dataset_sizes[phase]\n",
    "            epoch_acc = running_corrects.double() / dataset_sizes[phase]\n",
    "\n",
    "            print(f'{phase} Loss: {epoch_loss:.4f} Acc: {epoch_acc:.4f}')\n",
    "\n",
    "            # deep copy the model\n",
    "            if phase == 'val' and epoch_acc > best_acc:\n",
    "                best_acc = epoch_acc\n",
    "                best_model_wts = copy.deepcopy(model.state_dict())\n",
    "\n",
    "        print()\n",
    "\n",
    "    time_elapsed = time.time() - since\n",
    "    print(f'Training complete in {time_elapsed // 60:.0f}m {time_elapsed % 60:.0f}s')\n",
    "    print(f'Best val Acc: {best_acc:4f}')\n",
    "\n",
    "    # load best model weights\n",
    "    model.load_state_dict(best_model_wts)\n",
    "    return model"
   ]
  },
  {
   "cell_type": "code",
   "execution_count": null,
   "metadata": {},
   "outputs": [],
   "source": [
    "model_ft = models.resnet18(pretrained=True)\n",
    "num_ftrs = model_ft.fc.in_features\n",
    "# Here the size of each output sample is set to 2.\n",
    "# Alternatively, it can be generalized to nn.Linear(num_ftrs, len(class_names)).\n",
    "model_ft.fc = nn.Linear(num_ftrs, 2)\n",
    "\n",
    "model_ft = model_ft.to(device)\n",
    "\n",
    "criterion = nn.CrossEntropyLoss()\n",
    "\n",
    "# Observe that all parameters are being optimized\n",
    "optimizer_ft = optim.SGD(model_ft.parameters(), lr=0.001, momentum=0.9)\n",
    "\n",
    "# Decay LR by a factor of 0.1 every 7 epochs\n",
    "exp_lr_scheduler = lr_scheduler.StepLR(optimizer_ft, step_size=7, gamma=0.1)"
   ]
  },
  {
   "cell_type": "code",
   "execution_count": null,
   "metadata": {},
   "outputs": [],
   "source": [
    "model_ft = train_model(model_ft, criterion, optimizer_ft, exp_lr_scheduler,\n",
    "                       num_epochs=25)"
   ]
  },
  {
   "cell_type": "markdown",
   "metadata": {
    "id": "nDUT9jtY99iB"
   },
   "source": [
    "###  **`Bonus (optional)`**\n",
    "Play with the code and try to get a higher accuracy on the test dataset (5 class from STL-10) as high as you can. The only data you can use is from CIFAR-100 and SLT-10. The higher accuracy among all teams can get extra points. Specifically, **1st:** *5-pts*, **2nd and 3rd:** *4-pts*, **4th and 5th:** *3-pts*, **6th and 7th:** *2-pts*, **8th-10th:** *1-pts*. You can adjust the hyperparameters and changing structures. Your strategies should be described and explained in your report.\n",
    "\n",
    "*Please do not use external well-defined networks and please do not add more than 3 additional (beyond the original network) convolutional layers.*\n",
    "\n",
    "**Hints**:\n",
    "*   Data augmentation\n",
    "*   Grid Search\n",
    "*   Freezing early layers\n",
    "*   Modifying Architecture\n",
    "*   Modifying hyperparameters, *etc*.\n",
    "*   [Other advice](https://cs231n.github.io/transfer-learning/)"
   ]
  },
  {
   "cell_type": "code",
   "execution_count": null,
   "metadata": {
    "id": "P1YsjfP199iB"
   },
   "outputs": [],
   "source": [
    "################################\n",
    "# Todo: finish the code\n",
    "################################"
   ]
  }
 ],
 "metadata": {
  "colab": {
   "collapsed_sections": [],
   "provenance": []
  },
  "kernelspec": {
   "display_name": "Python 3 (ipykernel)",
   "language": "python",
   "name": "python3"
  },
  "language_info": {
   "codemirror_mode": {
    "name": "ipython",
    "version": 3
   },
   "file_extension": ".py",
   "mimetype": "text/x-python",
   "name": "python",
   "nbconvert_exporter": "python",
   "pygments_lexer": "ipython3",
   "version": "3.9.12"
  }
 },
 "nbformat": 4,
 "nbformat_minor": 4
}
